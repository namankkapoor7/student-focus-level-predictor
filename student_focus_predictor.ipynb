{
 "cells": [
  {
   "cell_type": "markdown",
   "id": "fe9a73aa",
   "metadata": {},
   "source": [
    "# Student Focus Predictor – AICTE Internship Project"
   ]
  },
  {
   "cell_type": "markdown",
   "id": "fade5841",
   "metadata": {},
   "source": [
    "This notebook builds a simple logistic regression model to predict whether a student will be focused or not based on environment and time-related factors."
   ]
  },
  {
   "cell_type": "code",
   "execution_count": null,
   "id": "d78433eb",
   "metadata": {},
   "outputs": [],
   "source": [
    "import pandas as pd\n",
    "import numpy as np\n",
    "from sklearn.preprocessing import LabelEncoder\n",
    "from sklearn.model_selection import train_test_split\n",
    "from sklearn.linear_model import LogisticRegression\n",
    "from sklearn.metrics import classification_report, confusion_matrix\n",
    "import seaborn as sns\n",
    "import matplotlib.pyplot as plt"
   ]
  },
  {
   "cell_type": "code",
   "execution_count": null,
   "id": "81d45d24",
   "metadata": {},
   "outputs": [],
   "source": [
    "# Generate synthetic dataset\n",
    "np.random.seed(42)\n",
    "n = 100\n",
    "data = {\n",
    "    'TimeOfDay': np.random.choice(['Morning', 'Afternoon', 'Evening', 'Night'], n),\n",
    "    'DurationMin': np.random.randint(15, 90, n),\n",
    "    'Light': np.random.choice(['Bright', 'Dim'], n),\n",
    "    'Noise': np.random.choice(['Low', 'High'], n),\n",
    "    'LastMealHrsAgo': np.random.randint(1, 6, n),\n",
    "}\n",
    "df = pd.DataFrame(data)\n",
    "\n",
    "def determine_focus(row):\n",
    "    if row['TimeOfDay'] in ['Morning', 'Afternoon'] and row['Light'] == 'Bright' and row['Noise'] == 'Low' and row['LastMealHrsAgo'] <= 3:\n",
    "        return 'Yes'\n",
    "    return 'No'\n",
    "\n",
    "df['Focused'] = df.apply(determine_focus, axis=1)\n",
    "df.head()"
   ]
  },
  {
   "cell_type": "code",
   "execution_count": null,
   "id": "4a7b98fe",
   "metadata": {},
   "outputs": [],
   "source": [
    "# Encode categorical features\n",
    "label_encoders = {}\n",
    "for col in ['TimeOfDay', 'Light', 'Noise', 'Focused']:\n",
    "    le = LabelEncoder()\n",
    "    df[col] = le.fit_transform(df[col])\n",
    "    label_encoders[col] = le\n",
    "df.head()"
   ]
  },
  {
   "cell_type": "code",
   "execution_count": null,
   "id": "88eabf9f",
   "metadata": {},
   "outputs": [],
   "source": [
    "# Train/test split\n",
    "X = df.drop('Focused', axis=1)\n",
    "y = df['Focused']\n",
    "X_train, X_test, y_train, y_test = train_test_split(X, y, test_size=0.2, random_state=42)"
   ]
  },
  {
   "cell_type": "code",
   "execution_count": null,
   "id": "5a6feea1",
   "metadata": {},
   "outputs": [],
   "source": [
    "# Train logistic regression model\n",
    "model = LogisticRegression()\n",
    "model.fit(X_train, y_train)\n",
    "y_pred = model.predict(X_test)"
   ]
  },
  {
   "cell_type": "code",
   "execution_count": null,
   "id": "fb855b60",
   "metadata": {},
   "outputs": [],
   "source": [
    "# Evaluate model\n",
    "print(confusion_matrix(y_test, y_pred))\n",
    "print(classification_report(y_test, y_pred))"
   ]
  },
  {
   "cell_type": "code",
   "execution_count": null,
   "id": "09f138a3",
   "metadata": {},
   "outputs": [],
   "source": [
    "# Plot confusion matrix\n",
    "cm = confusion_matrix(y_test, y_pred)\n",
    "sns.heatmap(cm, annot=True, fmt='d', cmap='Greens', xticklabels=label_encoders['Focused'].classes_, yticklabels=label_encoders['Focused'].classes_)\n",
    "plt.title('Confusion Matrix')\n",
    "plt.xlabel('Predicted')\n",
    "plt.ylabel('Actual')\n",
    "plt.show()"
   ]
  }
 ],
 "metadata": {},
 "nbformat": 4,
 "nbformat_minor": 5
}